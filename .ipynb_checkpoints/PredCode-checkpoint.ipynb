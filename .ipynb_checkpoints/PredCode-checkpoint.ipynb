{
 "cells": [
  {
   "cell_type": "code",
   "execution_count": 1,
   "metadata": {},
   "outputs": [],
   "source": [
    "from pyspark.sql import SparkSession\n",
    "from pyspark.sql import SQLContext\n",
    "from pyspark.sql.functions import col, avg, when\n",
    "import sys\n",
    "import os\n",
    "import glob\n",
    "import hdf5_getters\n",
    "import re\n",
    "\n",
    "# (8 cores, 16gb per machine) x 5 = 40 cores\n",
    "\n",
    "# New API\n",
    "spark_session = SparkSession\\\n",
    "        .builder\\\n",
    "        .master(\"spark://192.168.1.79:7077\") \\\n",
    "        .appName(\"SongHotness\")\\\n",
    "        .config(\"spark.dynamicAllocation.enabled\", True)\\\n",
    "        .config(\"spark.shuffle.service.enabled\", True)\\\n",
    "        .config(\"spark.dynamicAllocation.executorIdleTimeout\",\"30s\")\\\n",
    "        .config(\"spark.executor.cores\",4)\\\n",
    "        .getOrCreate()\n",
    "\n",
    "# Old API (RDD)\n",
    "spark_context = spark_session.sparkContext\n",
    "sqlContext = SQLContext(spark_context)\n",
    "\n",
    "def rowUnpack(df):\n",
    "        results={}\n",
    "        for i in df:\n",
    "            results.update(i.asDict())\n",
    "        return(results)"
   ]
  },
  {
   "cell_type": "code",
   "execution_count": 2,
   "metadata": {},
   "outputs": [],
   "source": [
    "class Song:\n",
    "    songCount = 0\n",
    "    # songDictionary = {}\n",
    "\n",
    "    def __init__(self, songID):\n",
    "        self.id = songID\n",
    "        Song.songCount += 1\n",
    "        # Song.songDictionary[songID] = self\n",
    "\n",
    "        self.albumName = None\n",
    "        self.albumID = None\n",
    "        self.artistID = None\n",
    "        self.artistLatitude = None\n",
    "        self.artistLocation = None\n",
    "        self.artistLongitude = None\n",
    "        self.artistName = None\n",
    "        self.danceability = None\n",
    "        self.duration = None\n",
    "        self.energy = None\n",
    "        self.genreList = []\n",
    "        self.keySignature = None\n",
    "        self.keySignatureConfidence = None\n",
    "        self.lyrics = None\n",
    "        self.popularity = None\n",
    "        self.songhotttnesss = None\n",
    "        self.tempo = None\n",
    "        self.timeSignature = None\n",
    "        self.timeSignatureConfidence = None\n",
    "        self.title = None\n",
    "        self.year = None\n",
    "\n",
    "    def displaySongCount(self):\n",
    "        print(\"Total Song Count %i\" % Song.songCount)\n",
    "\n",
    "    def displaySong(self):\n",
    "        print(\"ID: %s\" % self.id)  \n",
    "    \n",
    "    "
   ]
  },
  {
   "cell_type": "code",
   "execution_count": 3,
   "metadata": {},
   "outputs": [
    {
     "data": {
      "text/plain": [
       "'This code has been adapted for conversion of .h5 files to PySpark Dataframe by Karthik Nair(3 June 2019) of Uppsala University (github.com/karnair)'"
      ]
     },
     "execution_count": 3,
     "metadata": {},
     "output_type": "execute_result"
    }
   ],
   "source": [
    "    \n",
    "\"\"\"\n",
    "Original:\n",
    "\n",
    "Alexis Greenstreet (October 4, 2015) University of Wisconsin-Madison\n",
    "\n",
    "This code is designed to convert the HDF5 files of the Million Song Dataset\n",
    "to a CSV by extracting various song properties.\n",
    "\n",
    "The script writes to a \"SongCSV.csv\" in the directory containing this script.\n",
    "\n",
    "Please note that in the current form, this code only extracts the following\n",
    "information from the HDF5 files:\n",
    "AlbumID, AlbumName, ArtistID, ArtistLatitude, ArtistLocation,\n",
    "ArtistLongitude, ArtistName, Danceability, Duration, KeySignature,\n",
    "KeySignatureConfidence, SongID, Tempo, TimeSignature,\n",
    "TimeSignatureConfidence, Title, and Year.\n",
    "\n",
    "This file also requires the use of \"hdf5_getters.py\", written by\n",
    "Thierry Bertin-Mahieux (2010) at Columbia University\n",
    "\n",
    "Credit:\n",
    "This HDF5 to CSV code makes use of the following example code provided\n",
    "at the Million Song Dataset website \n",
    "(Home>Tutorial/Iterate Over All Songs, \n",
    "http://labrosa.ee.columbia.edu/millionsong/pages/iterate-over-all-songs),\n",
    "Which gives users the following code to get all song titles:\n",
    "\n",
    "#import os\n",
    "#import glob\n",
    "#import hdf5_getters\n",
    "#def get_all_titles(basedir,ext='.h5') :\n",
    "#    titles = []\n",
    "#   for root, dirs, files in os.walk(basedir):\n",
    "#        files = glob.glob(os.path.join(root,'*'+ext))\n",
    "#        for f in files:\n",
    "#            h5 = hdf5_getters.open_h5_file_read(f)\n",
    "#            titles.append( hdf5_getters.get_title(h5) )\n",
    "#            h5.close()\n",
    "#   return titles \n",
    "\"\"\"\n",
    "\n",
    "\"\"\"This code has been modified for python3 compatibility by Karthik Nair(28 May 2019) of Uppsala University (github.com/karnair)\"\"\"\n",
    "\"\"\"This code has been adapted for conversion of .h5 files to PySpark Dataframe by Karthik Nair(3 June 2019) of Uppsala University (github.com/karnair)\"\"\"\n",
    "\n"
   ]
  },
  {
   "cell_type": "code",
   "execution_count": 3,
   "metadata": {},
   "outputs": [],
   "source": [
    "def h5toPysDf():\n",
    "    \n",
    "   \n",
    "    song_number = []\n",
    "    album_id = []\n",
    "    artist_latitude = []\n",
    "    artist_location = []\n",
    "    artist_longitude = []\n",
    "    artist_name =[]\n",
    "    danceability = []\n",
    "    duration = []\n",
    "    energy = []\n",
    "    key_signature = []\n",
    "    key_signature_confidence = []\n",
    "    song_id = []\n",
    "    tempo = []\n",
    "    song_hotttnesss = []\n",
    "    time_signature = []\n",
    "    time_signature_confidence = []\n",
    "    title = []\n",
    "    year = []\n",
    "    \n",
    "    \n",
    "    \n",
    "    csvRowString = (\"SongID,AlbumID,ArtistLatitude,ArtistLocation,\"+\n",
    "            \"ArtistLongitude,ArtistName,Danceability,Duration,Energy,KeySignature,\"+\n",
    "            \"KeySignatureConfidence,SongHotttnesss,Tempo,TimeSignature,TimeSignatureConfidence,\"+\n",
    "            \"Title,Year\")\n",
    "    \n",
    "    csvAttributeList = re.split('\\W+', csvRowString)\n",
    "    \n",
    "    for i, v in enumerate(csvAttributeList):\n",
    "        csvAttributeList[i] = csvAttributeList[i].lower()\n",
    "        csvRowString = \"\"\n",
    "    \n",
    "    basedir = \"/home/ubuntu/MillionSongSubset/data\" # \".\" As the default means the current directory\n",
    "    ext = \".h5\"\n",
    "    \n",
    "    for root, dirs, files in os.walk(basedir):        \n",
    "        files = glob.glob(os.path.join(root,'*'+ext))\n",
    "        for f in files:\n",
    "            #print(f)\n",
    "\n",
    "            songH5File = hdf5_getters.open_h5_file_read(f)\n",
    "            song = Song(str(hdf5_getters.get_song_id(songH5File)))\n",
    "\n",
    "            testDanceability = hdf5_getters.get_danceability(songH5File)\n",
    "            # print type(testDanceability)\n",
    "            # print (\"Here is the danceability: \") + str(testDanceability)\n",
    "\n",
    "            #song.artistID = str(hdf5_getters.get_artist_id(songH5File))\n",
    "            song.albumID = str(hdf5_getters.get_release_7digitalid(songH5File))\n",
    "            #song.albumName = str(hdf5_getters.get_release(songH5File))\n",
    "            song.artistLatitude = str(hdf5_getters.get_artist_latitude(songH5File))\n",
    "            song.artistLocation = str(hdf5_getters.get_artist_location(songH5File))\n",
    "            song.artistLongitude = str(hdf5_getters.get_artist_longitude(songH5File))\n",
    "            song.artistName = str(hdf5_getters.get_artist_name(songH5File))\n",
    "            song.danceability = float(hdf5_getters.get_danceability(songH5File))\n",
    "            song.duration = float(hdf5_getters.get_duration(songH5File))\n",
    "            song.energy = float(hdf5_getters.get_energy(songH5File))\n",
    "            # song.setGenreList()\n",
    "            song.keySignature = float(hdf5_getters.get_key(songH5File))\n",
    "            song.keySignatureConfidence = float(hdf5_getters.get_key_confidence(songH5File))\n",
    "            # song.lyrics = None\n",
    "            # song.popularity = None\n",
    "            song.tempo = float(hdf5_getters.get_tempo(songH5File))\n",
    "            song.songhotttnesss = float(hdf5_getters.get_song_hotttnesss(songH5File))\n",
    "            song.timeSignature = float(hdf5_getters.get_time_signature(songH5File))\n",
    "            song.timeSignatureConfidence = float(hdf5_getters.get_time_signature_confidence(songH5File))\n",
    "            song.title = str(hdf5_getters.get_title(songH5File))\n",
    "            song.year = str(hdf5_getters.get_year(songH5File))\n",
    "            \n",
    "            \n",
    "            \n",
    "            #csvRowString += str(song.songCount) + \",\"\n",
    "            song_number.append(song.songCount)\n",
    "\n",
    "            for attribute in csvAttributeList:\n",
    "                # print \"Here is the attribute: \" + attribute + \" \\n\"\n",
    "\n",
    "                if attribute == 'AlbumID'.lower():\n",
    "                    #csvRowString += song.albumID\n",
    "                    album_id.append(song.albumID)\n",
    "                elif attribute == 'ArtistLatitude'.lower():\n",
    "                    latitude = song.artistLatitude\n",
    "                    if latitude == 'nan':\n",
    "                        latitude = ''\n",
    "                    artist_latitude.append(latitude)\n",
    "                elif attribute == 'ArtistLocation'.lower():\n",
    "                    location = song.artistLocation\n",
    "                    location = location.replace(',','')\n",
    "                    artist_location.append(location) \n",
    "                elif attribute == 'ArtistLongitude'.lower():\n",
    "                    longitude = song.artistLongitude\n",
    "                    if longitude == 'nan':\n",
    "                        longitude = ''\n",
    "                    artist_longitude.append(longitude)   \n",
    "                elif attribute == 'ArtistName'.lower():\n",
    "                    artist_name.append(song.artistName)\n",
    "                elif attribute == 'Danceability'.lower():\n",
    "                    danceability.append(song.danceability)\n",
    "                elif attribute == 'Duration'.lower():\n",
    "                    duration.append(song.duration)\n",
    "                elif attribute == 'Energy'.lower():\n",
    "                    energy.append(song.energy)\n",
    "                elif attribute == 'KeySignature'.lower():\n",
    "                    key_signature.append(song.keySignature)\n",
    "                elif attribute == 'KeySignatureConfidence'.lower():\n",
    "                    # print \"key sig conf: \" + song.timeSignatureConfidence                                 \n",
    "                    key_signature_confidence.append(song.keySignatureConfidence)\n",
    "                elif attribute == 'SongID'.lower():\n",
    "                    song_id.append(song.id)\n",
    "                elif attribute == 'Tempo'.lower():\n",
    "                    # print \"Tempo: \" + song.tempo\n",
    "                    tempo.append(song.tempo)\n",
    "                elif attribute == 'SongHotttnesss'.lower():\n",
    "                    song_hotttnesss.append(song.songhotttnesss)\n",
    "                elif attribute == 'TimeSignature'.lower():\n",
    "                    time_signature.append(song.timeSignature)\n",
    "                elif attribute == 'TimeSignatureConfidence'.lower():\n",
    "                    # print \"time sig conf: \" + song.timeSignatureConfidence                                   \n",
    "                    time_signature_confidence.append(song.timeSignatureConfidence)\n",
    "                elif attribute == 'Title'.lower():\n",
    "                    title.append(song.title)\n",
    "                elif attribute == 'Year'.lower():\n",
    "                    year.append(song.year)\n",
    "                #\"\"\"else:\n",
    "                 #   csvRowString += \"Erm. This didn't work. Error. :( :(\\n\" \"\"\"\"\n",
    "\n",
    "                #csvRowString += \",\"\n",
    "            songH5File.close()\n",
    "    pysp_df = sqlContext.createDataFrame(zip(song_number, album_id, artist_latitude, artist_location, artist_longitude, artist_name, danceability, duration, energy, key_signature, key_signature_confidence, song_id, tempo, song_hotttnesss, time_signature, time_signature_confidence, title, year), schema=['song_number', 'album_id', 'artist_latitude', 'artist_location', 'artist_longitude', 'artist_name', 'danceability', 'duration', 'energy', 'key_signature', 'key_signature_confidence', 'song_id', 'tempo', 'song_hotttnesss', 'time_signature', 'time_signature_confidence', 'title', 'year'])\n",
    "    return pysp_df\n"
   ]
  },
  {
   "cell_type": "code",
   "execution_count": 4,
   "metadata": {},
   "outputs": [],
   "source": [
    "#song_number, album_id, artist_latitude, artist_location, artist_longitude, artist_name, danceability, duration, energy, key_signature, key_signature_confidence, song_id, tempo, song_hotttnesss, time_signature, time_signature_confidence, title, year = main()\n",
    "msd_df = h5toPysDf()"
   ]
  },
  {
   "cell_type": "code",
   "execution_count": 5,
   "metadata": {},
   "outputs": [],
   "source": [
    "#msd_df = sqlContext.createDataFrame(zip(song_number, album_id, artist_latitude, artist_location, artist_longitude, artist_name, danceability, duration, energy, key_signature, key_signature_confidence, song_id, tempo, song_hotttnesss, time_signature, time_signature_confidence, title, year), schema=['song_number', 'album_id', 'artist_latitude', 'artist_location', 'artist_longitude', 'artist_name', 'danceability', 'duration', 'energy', 'key_signature', 'key_signature_confidence', 'song_id', 'tempo', 'song_hotttnesss', 'time_signature', 'time_signature_confidence', 'title', 'year'])"
   ]
  },
  {
   "cell_type": "code",
   "execution_count": 6,
   "metadata": {},
   "outputs": [
    {
     "name": "stdout",
     "output_type": "stream",
     "text": [
      "+-----------+--------+---------------+--------------------+----------------+--------------------+------------+---------+------+-------------+------------------------+--------------------+-------+-------------------+--------------+-------------------------+--------------------+----+\n",
      "|song_number|album_id|artist_latitude|     artist_location|artist_longitude|         artist_name|danceability| duration|energy|key_signature|key_signature_confidence|             song_id|  tempo|    song_hotttnesss|time_signature|time_signature_confidence|               title|year|\n",
      "+-----------+--------+---------------+--------------------+----------------+--------------------+------------+---------+------+-------------+------------------------+--------------------+-------+-------------------+--------------+-------------------------+--------------------+----+\n",
      "|          1|  511272|               |                 b''|                |          b'Dickies'|         0.0|179.59138|   0.0|          2.0|                   0.277|b'SONKOFE12AB0187...| 70.183| 0.6536286823546584|           4.0|                    0.293|         b'Gigantor'|   0|\n",
      "|          2|   35970|               |                 b''|                |b'IMISKOUBRIA fea...|         0.0|245.26322|   0.0|         10.0|                   0.421|b'SOHZYBG12A58291...|100.003|                NaN|           4.0|                      1.0|b'Apoliome Re Gio...|   0|\n",
      "|          3|   14979|       18.11526|          b'Jamaica'|       -77.27348| b'Cornell Campbell'|         0.0|184.99873|   0.0|         11.0|                   0.424|b'SOLFRCH12A67021...|141.257|                NaN|           4.0|                    0.517|b'Got To Tell The...|1997|\n",
      "|          4|  647420|       33.71197|      b'Lithonia GA'|       -84.10599|       b'Brenda Lee'|         0.0|173.06077|   0.0|          8.0|                   0.637|b'SOGOBIT12AB0189...|124.291|0.38293509007501925|           1.0|                      0.0|b\"If I'M Dreaming...|   0|\n",
      "|          5|  395388|               |b'New York NY [Qu...|                |b'Capone-N-Noreag...|         0.0| 256.1824|   0.0|          0.0|                     1.0|b'SOACXUA12AB017C...|201.494| 0.4623799459732465|           4.0|                    0.819|           b'Rotate'|2009|\n",
      "|          6|   69802|       40.58751|       b'Redding CA'|      -122.39293|       b'Roy Rogers'|         0.0| 185.0771|   0.0|          0.0|                   0.524|b'SOTBDNQ12A67ADB...|100.451| 0.2530973283167317|           3.0|                    0.699|b\"The Hills Of Ol...|   0|\n",
      "|          7|  597519|               |       b'Jackson MS'|                |       b'Faith Hill'|         0.0|207.80363|   0.0|          0.0|                   0.441|b'SOQAUIF12AC4686...|141.705| 0.5177890440253479|           4.0|                    0.472|b'Better Days (Al...|1998|\n",
      "|          8|  813022|       40.71455|b'NY - New York C...|       -74.00712|  b'George Schuller'|         0.0| 409.0771|   0.0|          7.0|                   0.259|b'SOTVMJI12AB0186...|103.022|                0.0|           3.0|                    0.792|   b'Distant Cousin'|   0|\n",
      "|          9|  236680|               |                 b''|                |            b'Opals'|         0.0|136.77669|   0.0|          5.0|                   0.754|b'SOAQRFQ12A8AE46...|155.611|                NaN|           3.0|                      1.0|             b'Love'|   0|\n",
      "|         10|  116947|               |           b'POLAND'|                |         b'Behemoth'|         0.0|206.44526|   0.0|          6.0|                   0.525|b'SOKZCJC12AF72A8...|114.929| 0.6204583740756491|           3.0|                      1.0|  b'Here And Beyond'|2002|\n",
      "|         11|  123609|       48.39023|     b'Brest France'|        -4.48622|          b'Miossec'|         0.0|225.90649|   0.0|          2.0|                   0.613|b'SOWOWTL12A6D4F9...| 89.013|                NaN|           3.0|                    0.706|b'D\\xc3\\xa9sol\\xc...|2004|\n",
      "|         12|  348099|               |b'Shelby North Ca...|                |       b'Don Gibson'|         0.0|151.09179|   0.0|          9.0|                   0.624|b'SOPFIWM12AB0186...| 81.832|                NaN|           3.0|                    0.898|b'(Prayer Is The ...|1959|\n",
      "|         13|   28491|               |b'Toronto Ontario...|                |   b'Dream Warriors'|         0.0|414.24934|   0.0|          6.0|                   0.005|b'SOAEGFO12A6D4F8...|106.821|                NaN|           5.0|                      1.0|b'Sound Clash (fe...|1996|\n",
      "|         14|   54098|               |                 b''|                |          b'Mau Mau'|         0.0|745.40363|   0.0|          7.0|                   0.687|b'SOLWGCZ12A6D4FA...|107.983|                NaN|           4.0|                      1.0|b'Finisterre (Live)'|   0|\n",
      "|         15|  491293|               |      b'Wilmette IL'|                |     b'Fall Out Boy'|         0.0|214.33424|   0.0|          2.0|                   0.439|b'SODWYJZ12AB0182...|160.109| 0.7876204040717483|           4.0|                     0.47|b\"America's Suite...|2008|\n",
      "|         16|  536493|       35.83073|       b'Dunedin FL'|       -85.97874|       b'Lari White'|         0.0|239.90812|   0.0|          7.0|                   0.722|b'SODKKPS12AB0183...|137.002|                NaN|           4.0|                    0.075|b'The One Who Liv...|   0|\n",
      "|         17|  206616|               |                 b''|                |            b'Dakis'|         0.0|224.07791|   0.0|          0.0|                   0.586|b'SOVBBUZ12A8C137...| 109.08|                NaN|           4.0|                    0.855|b'Tsai Me Lemoni ...|   0|\n",
      "|         18|  599225|               |                 b''|                |   b'Steven Halpern'|         0.0|248.63302|   0.0|          5.0|                     0.4|b'SOIWQSF12AC468C...|134.538|                NaN|           3.0|                    0.356|b'Natural Light (...|   0|\n",
      "|         19|  727695|               |                 b''|                |        b'Slackbaba'|         0.0| 465.6322|   0.0|          0.0|                    0.67|b'SOCWFVT12AB0189...| 88.644| 0.5524570090077631|           5.0|                    0.607|     b'Sea of Green'|2006|\n",
      "|         20|  624432|       52.47859|b'Birmingham Engl...|         -1.9086|            b'Frost'|         0.0|336.24771|   0.0|          0.0|                   0.954|b'SOTZIPQ12AB0180...|126.946|                NaN|           3.0|                    0.207|b'My Plastic Hear...|   0|\n",
      "+-----------+--------+---------------+--------------------+----------------+--------------------+------------+---------+------+-------------+------------------------+--------------------+-------+-------------------+--------------+-------------------------+--------------------+----+\n",
      "only showing top 20 rows\n",
      "\n"
     ]
    }
   ],
   "source": [
    "msd_df.show()"
   ]
  },
  {
   "cell_type": "code",
   "execution_count": 7,
   "metadata": {},
   "outputs": [
    {
     "name": "stdout",
     "output_type": "stream",
     "text": [
      "root\n",
      " |-- song_number: long (nullable = true)\n",
      " |-- album_id: string (nullable = true)\n",
      " |-- artist_latitude: string (nullable = true)\n",
      " |-- artist_location: string (nullable = true)\n",
      " |-- artist_longitude: string (nullable = true)\n",
      " |-- artist_name: string (nullable = true)\n",
      " |-- danceability: double (nullable = true)\n",
      " |-- duration: double (nullable = true)\n",
      " |-- energy: double (nullable = true)\n",
      " |-- key_signature: double (nullable = true)\n",
      " |-- key_signature_confidence: double (nullable = true)\n",
      " |-- song_id: string (nullable = true)\n",
      " |-- tempo: double (nullable = true)\n",
      " |-- song_hotttnesss: double (nullable = true)\n",
      " |-- time_signature: double (nullable = true)\n",
      " |-- time_signature_confidence: double (nullable = true)\n",
      " |-- title: string (nullable = true)\n",
      " |-- year: string (nullable = true)\n",
      "\n"
     ]
    }
   ],
   "source": [
    "msd_df.printSchema()"
   ]
  },
  {
   "cell_type": "code",
   "execution_count": 8,
   "metadata": {},
   "outputs": [],
   "source": [
    "msd_df = msd_df.na.fill(0)"
   ]
  },
  {
   "cell_type": "code",
   "execution_count": 10,
   "metadata": {},
   "outputs": [
    {
     "data": {
      "text/plain": [
       "[Row(avg(song_hotttnesss)=0.45948195643562095)]"
      ]
     },
     "execution_count": 10,
     "metadata": {},
     "output_type": "execute_result"
    }
   ],
   "source": [
    "msd_df1 = msd_df.filter(msd_df['song_hotttnesss'] > 0).agg(avg(col(\"song_hotttnesss\"))).collect()"
   ]
  },
  {
   "cell_type": "code",
   "execution_count": 11,
   "metadata": {},
   "outputs": [
    {
     "data": {
      "text/plain": [
       "0.45948195643562095"
      ]
     },
     "execution_count": 11,
     "metadata": {},
     "output_type": "execute_result"
    }
   ],
   "source": [
    "average = rowUnpack(msd_df1)\n",
    "average = average['avg(song_hotttnesss)']"
   ]
  },
  {
   "cell_type": "code",
   "execution_count": 12,
   "metadata": {},
   "outputs": [],
   "source": [
    "msd_df_corrected = msd_df.withColumn(\"song_hotttnesss\", \\\n",
    "              when(msd_df[\"song_hotttnesss\"] == 0, average).otherwise(msd_df[\"song_hotttnesss\"]))"
   ]
  },
  {
   "cell_type": "code",
   "execution_count": 13,
   "metadata": {},
   "outputs": [
    {
     "name": "stdout",
     "output_type": "stream",
     "text": [
      "+-----------+--------+---------------+--------------------+----------------+--------------------+------------+---------+------+-------------+------------------------+--------------------+-------+-------------------+--------------+-------------------------+--------------------+----+\n",
      "|song_number|album_id|artist_latitude|     artist_location|artist_longitude|         artist_name|danceability| duration|energy|key_signature|key_signature_confidence|             song_id|  tempo|    song_hotttnesss|time_signature|time_signature_confidence|               title|year|\n",
      "+-----------+--------+---------------+--------------------+----------------+--------------------+------------+---------+------+-------------+------------------------+--------------------+-------+-------------------+--------------+-------------------------+--------------------+----+\n",
      "|          1|  511272|               |                 b''|                |          b'Dickies'|         0.0|179.59138|   0.0|          2.0|                   0.277|b'SONKOFE12AB0187...| 70.183| 0.6536286823546584|           4.0|                    0.293|         b'Gigantor'|   0|\n",
      "|          2|   35970|               |                 b''|                |b'IMISKOUBRIA fea...|         0.0|245.26322|   0.0|         10.0|                   0.421|b'SOHZYBG12A58291...|100.003|0.45948195643562095|           4.0|                      1.0|b'Apoliome Re Gio...|   0|\n",
      "|          3|   14979|       18.11526|          b'Jamaica'|       -77.27348| b'Cornell Campbell'|         0.0|184.99873|   0.0|         11.0|                   0.424|b'SOLFRCH12A67021...|141.257|0.45948195643562095|           4.0|                    0.517|b'Got To Tell The...|1997|\n",
      "|          4|  647420|       33.71197|      b'Lithonia GA'|       -84.10599|       b'Brenda Lee'|         0.0|173.06077|   0.0|          8.0|                   0.637|b'SOGOBIT12AB0189...|124.291|0.38293509007501925|           1.0|                      0.0|b\"If I'M Dreaming...|   0|\n",
      "|          5|  395388|               |b'New York NY [Qu...|                |b'Capone-N-Noreag...|         0.0| 256.1824|   0.0|          0.0|                     1.0|b'SOACXUA12AB017C...|201.494| 0.4623799459732465|           4.0|                    0.819|           b'Rotate'|2009|\n",
      "|          6|   69802|       40.58751|       b'Redding CA'|      -122.39293|       b'Roy Rogers'|         0.0| 185.0771|   0.0|          0.0|                   0.524|b'SOTBDNQ12A67ADB...|100.451| 0.2530973283167317|           3.0|                    0.699|b\"The Hills Of Ol...|   0|\n",
      "|          7|  597519|               |       b'Jackson MS'|                |       b'Faith Hill'|         0.0|207.80363|   0.0|          0.0|                   0.441|b'SOQAUIF12AC4686...|141.705| 0.5177890440253479|           4.0|                    0.472|b'Better Days (Al...|1998|\n",
      "|          8|  813022|       40.71455|b'NY - New York C...|       -74.00712|  b'George Schuller'|         0.0| 409.0771|   0.0|          7.0|                   0.259|b'SOTVMJI12AB0186...|103.022|0.45948195643562095|           3.0|                    0.792|   b'Distant Cousin'|   0|\n",
      "|          9|  236680|               |                 b''|                |            b'Opals'|         0.0|136.77669|   0.0|          5.0|                   0.754|b'SOAQRFQ12A8AE46...|155.611|0.45948195643562095|           3.0|                      1.0|             b'Love'|   0|\n",
      "|         10|  116947|               |           b'POLAND'|                |         b'Behemoth'|         0.0|206.44526|   0.0|          6.0|                   0.525|b'SOKZCJC12AF72A8...|114.929| 0.6204583740756491|           3.0|                      1.0|  b'Here And Beyond'|2002|\n",
      "|         11|  123609|       48.39023|     b'Brest France'|        -4.48622|          b'Miossec'|         0.0|225.90649|   0.0|          2.0|                   0.613|b'SOWOWTL12A6D4F9...| 89.013|0.45948195643562095|           3.0|                    0.706|b'D\\xc3\\xa9sol\\xc...|2004|\n",
      "|         12|  348099|               |b'Shelby North Ca...|                |       b'Don Gibson'|         0.0|151.09179|   0.0|          9.0|                   0.624|b'SOPFIWM12AB0186...| 81.832|0.45948195643562095|           3.0|                    0.898|b'(Prayer Is The ...|1959|\n",
      "|         13|   28491|               |b'Toronto Ontario...|                |   b'Dream Warriors'|         0.0|414.24934|   0.0|          6.0|                   0.005|b'SOAEGFO12A6D4F8...|106.821|0.45948195643562095|           5.0|                      1.0|b'Sound Clash (fe...|1996|\n",
      "|         14|   54098|               |                 b''|                |          b'Mau Mau'|         0.0|745.40363|   0.0|          7.0|                   0.687|b'SOLWGCZ12A6D4FA...|107.983|0.45948195643562095|           4.0|                      1.0|b'Finisterre (Live)'|   0|\n",
      "|         15|  491293|               |      b'Wilmette IL'|                |     b'Fall Out Boy'|         0.0|214.33424|   0.0|          2.0|                   0.439|b'SODWYJZ12AB0182...|160.109| 0.7876204040717483|           4.0|                     0.47|b\"America's Suite...|2008|\n",
      "|         16|  536493|       35.83073|       b'Dunedin FL'|       -85.97874|       b'Lari White'|         0.0|239.90812|   0.0|          7.0|                   0.722|b'SODKKPS12AB0183...|137.002|0.45948195643562095|           4.0|                    0.075|b'The One Who Liv...|   0|\n",
      "|         17|  206616|               |                 b''|                |            b'Dakis'|         0.0|224.07791|   0.0|          0.0|                   0.586|b'SOVBBUZ12A8C137...| 109.08|0.45948195643562095|           4.0|                    0.855|b'Tsai Me Lemoni ...|   0|\n",
      "|         18|  599225|               |                 b''|                |   b'Steven Halpern'|         0.0|248.63302|   0.0|          5.0|                     0.4|b'SOIWQSF12AC468C...|134.538|0.45948195643562095|           3.0|                    0.356|b'Natural Light (...|   0|\n",
      "|         19|  727695|               |                 b''|                |        b'Slackbaba'|         0.0| 465.6322|   0.0|          0.0|                    0.67|b'SOCWFVT12AB0189...| 88.644| 0.5524570090077631|           5.0|                    0.607|     b'Sea of Green'|2006|\n",
      "|         20|  624432|       52.47859|b'Birmingham Engl...|         -1.9086|            b'Frost'|         0.0|336.24771|   0.0|          0.0|                   0.954|b'SOTZIPQ12AB0180...|126.946|0.45948195643562095|           3.0|                    0.207|b'My Plastic Hear...|   0|\n",
      "+-----------+--------+---------------+--------------------+----------------+--------------------+------------+---------+------+-------------+------------------------+--------------------+-------+-------------------+--------------+-------------------------+--------------------+----+\n",
      "only showing top 20 rows\n",
      "\n"
     ]
    }
   ],
   "source": [
    "msd_df_corrected.show()"
   ]
  },
  {
   "cell_type": "code",
   "execution_count": 15,
   "metadata": {},
   "outputs": [],
   "source": [
    "msd_df_sub = msd_df_corrected.select(\"duration\",\"tempo\")"
   ]
  },
  {
   "cell_type": "code",
   "execution_count": 16,
   "metadata": {},
   "outputs": [
    {
     "name": "stdout",
     "output_type": "stream",
     "text": [
      "+---------+-------+\n",
      "| duration|  tempo|\n",
      "+---------+-------+\n",
      "|179.59138| 70.183|\n",
      "|245.26322|100.003|\n",
      "|184.99873|141.257|\n",
      "|173.06077|124.291|\n",
      "| 256.1824|201.494|\n",
      "| 185.0771|100.451|\n",
      "|207.80363|141.705|\n",
      "| 409.0771|103.022|\n",
      "|136.77669|155.611|\n",
      "|206.44526|114.929|\n",
      "|225.90649| 89.013|\n",
      "|151.09179| 81.832|\n",
      "|414.24934|106.821|\n",
      "|745.40363|107.983|\n",
      "|214.33424|160.109|\n",
      "|239.90812|137.002|\n",
      "|224.07791| 109.08|\n",
      "|248.63302|134.538|\n",
      "| 465.6322| 88.644|\n",
      "|336.24771|126.946|\n",
      "+---------+-------+\n",
      "only showing top 20 rows\n",
      "\n"
     ]
    }
   ],
   "source": [
    "msd_df_sub.show()"
   ]
  },
  {
   "cell_type": "code",
   "execution_count": null,
   "metadata": {},
   "outputs": [],
   "source": []
  }
 ],
 "metadata": {
  "kernelspec": {
   "display_name": "Python 3",
   "language": "python",
   "name": "python3"
  },
  "language_info": {
   "codemirror_mode": {
    "name": "ipython",
    "version": 3
   },
   "file_extension": ".py",
   "mimetype": "text/x-python",
   "name": "python",
   "nbconvert_exporter": "python",
   "pygments_lexer": "ipython3",
   "version": "3.6.7"
  }
 },
 "nbformat": 4,
 "nbformat_minor": 2
}
